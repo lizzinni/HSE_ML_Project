{
 "cells": [
  {
   "cell_type": "code",
   "execution_count": 1,
   "outputs": [
    {
     "data": {
      "text/plain": "Index(['id', 'MonsoonIntensity', 'TopographyDrainage', 'RiverManagement',\n       'Deforestation', 'Urbanization', 'ClimateChange', 'DamsQuality',\n       'Siltation', 'AgriculturalPractices', 'Encroachments',\n       'IneffectiveDisasterPreparedness', 'DrainageSystems',\n       'CoastalVulnerability', 'Landslides', 'Watersheds',\n       'DeterioratingInfrastructure', 'PopulationScore', 'WetlandLoss',\n       'InadequatePlanning', 'PoliticalFactors', 'FloodProbability'],\n      dtype='object')"
     },
     "execution_count": 1,
     "metadata": {},
     "output_type": "execute_result"
    }
   ],
   "source": [
    "import matplotlib.pyplot as plt\n",
    "import pandas as pd\n",
    "df = pd.read_csv('../data/train.csv')\n",
    "df.columns"
   ],
   "metadata": {
    "collapsed": false,
    "ExecuteTime": {
     "end_time": "2024-06-03T11:46:55.043336Z",
     "start_time": "2024-06-03T11:46:54.580599Z"
    }
   }
  },
  {
   "cell_type": "code",
   "execution_count": 4,
   "outputs": [
    {
     "name": "stdout",
     "output_type": "stream",
     "text": [
      "Диапазон значений в столбце id: от 0 до 1117956\n",
      "Диапазон значений в столбце MonsoonIntensity: от 0 до 16\n",
      "Диапазон значений в столбце TopographyDrainage: от 0 до 18\n",
      "Диапазон значений в столбце RiverManagement: от 0 до 16\n",
      "Диапазон значений в столбце Deforestation: от 0 до 17\n",
      "Диапазон значений в столбце Urbanization: от 0 до 17\n",
      "Диапазон значений в столбце ClimateChange: от 0 до 17\n",
      "Диапазон значений в столбце DamsQuality: от 0 до 16\n",
      "Диапазон значений в столбце Siltation: от 0 до 16\n",
      "Диапазон значений в столбце AgriculturalPractices: от 0 до 16\n",
      "Диапазон значений в столбце Encroachments: от 0 до 18\n",
      "Диапазон значений в столбце IneffectiveDisasterPreparedness: от 0 до 16\n",
      "Диапазон значений в столбце DrainageSystems: от 0 до 17\n",
      "Диапазон значений в столбце CoastalVulnerability: от 0 до 17\n",
      "Диапазон значений в столбце Landslides: от 0 до 16\n",
      "Диапазон значений в столбце Watersheds: от 0 до 16\n",
      "Диапазон значений в столбце DeterioratingInfrastructure: от 0 до 17\n",
      "Диапазон значений в столбце PopulationScore: от 0 до 18\n",
      "Диапазон значений в столбце WetlandLoss: от 0 до 19\n",
      "Диапазон значений в столбце InadequatePlanning: от 0 до 16\n",
      "Диапазон значений в столбце PoliticalFactors: от 0 до 16\n",
      "Диапазон значений в столбце FloodProbability: от 0.285 до 0.725\n"
     ]
    }
   ],
   "source": [
    "for i in df.columns:\n",
    "    min_val = df[i].min()\n",
    "    max_val = df[i].max()\n",
    "    print(f'Диапазон значений в столбце {i}: от {min_val} до {max_val}')"
   ],
   "metadata": {
    "collapsed": false,
    "ExecuteTime": {
     "end_time": "2024-06-03T11:52:10.562940Z",
     "start_time": "2024-06-03T11:52:10.507187Z"
    }
   }
  },
  {
   "cell_type": "code",
   "execution_count": null,
   "outputs": [],
   "source": [],
   "metadata": {
    "collapsed": false
   }
  }
 ],
 "metadata": {
  "kernelspec": {
   "display_name": "Python 3",
   "language": "python",
   "name": "python3"
  },
  "language_info": {
   "codemirror_mode": {
    "name": "ipython",
    "version": 2
   },
   "file_extension": ".py",
   "mimetype": "text/x-python",
   "name": "python",
   "nbconvert_exporter": "python",
   "pygments_lexer": "ipython2",
   "version": "2.7.6"
  }
 },
 "nbformat": 4,
 "nbformat_minor": 0
}
