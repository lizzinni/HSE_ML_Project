{
 "cells": [
  {
   "cell_type": "code",
   "execution_count": 1,
   "metadata": {
    "collapsed": true,
    "ExecuteTime": {
     "end_time": "2024-06-01T22:15:12.042821Z",
     "start_time": "2024-06-01T22:15:11.752166Z"
    }
   },
   "outputs": [],
   "source": [
    "import pandas as pd"
   ]
  },
  {
   "cell_type": "code",
   "execution_count": 2,
   "outputs": [],
   "source": [
    "df = pd.read_csv('../data/flood.csv')"
   ],
   "metadata": {
    "collapsed": false,
    "ExecuteTime": {
     "end_time": "2024-06-01T22:15:26.482314Z",
     "start_time": "2024-06-01T22:15:26.442304Z"
    }
   }
  },
  {
   "cell_type": "code",
   "execution_count": 3,
   "outputs": [
    {
     "data": {
      "text/plain": "   MonsoonIntensity  TopographyDrainage  RiverManagement  Deforestation  \\\n0                 3                   8                6              6   \n1                 8                   4                5              7   \n2                 3                  10                4              1   \n3                 4                   4                2              7   \n4                 3                   7                5              2   \n\n   Urbanization  ClimateChange  DamsQuality  Siltation  AgriculturalPractices  \\\n0             4              4            6          2                      3   \n1             7              9            1          5                      5   \n2             7              5            4          7                      4   \n3             3              4            1          4                      6   \n4             5              8            5          2                      7   \n\n   Encroachments  ...  DrainageSystems  CoastalVulnerability  Landslides  \\\n0              2  ...               10                     7           4   \n1              4  ...                9                     2           6   \n2              9  ...                7                     4           4   \n3              4  ...                4                     2           6   \n4              5  ...                7                     6           5   \n\n   Watersheds  DeterioratingInfrastructure  PopulationScore  WetlandLoss  \\\n0           2                            3                4            3   \n1           2                            1                1            9   \n2           8                            6                1            8   \n3           6                            8                8            6   \n4           3                            3                4            4   \n\n   InadequatePlanning  PoliticalFactors  FloodProbability  \n0                   2                 6             0.450  \n1                   1                 3             0.475  \n2                   3                 6             0.515  \n3                   6                10             0.520  \n4                   3                 4             0.475  \n\n[5 rows x 21 columns]",
      "text/html": "<div>\n<style scoped>\n    .dataframe tbody tr th:only-of-type {\n        vertical-align: middle;\n    }\n\n    .dataframe tbody tr th {\n        vertical-align: top;\n    }\n\n    .dataframe thead th {\n        text-align: right;\n    }\n</style>\n<table border=\"1\" class=\"dataframe\">\n  <thead>\n    <tr style=\"text-align: right;\">\n      <th></th>\n      <th>MonsoonIntensity</th>\n      <th>TopographyDrainage</th>\n      <th>RiverManagement</th>\n      <th>Deforestation</th>\n      <th>Urbanization</th>\n      <th>ClimateChange</th>\n      <th>DamsQuality</th>\n      <th>Siltation</th>\n      <th>AgriculturalPractices</th>\n      <th>Encroachments</th>\n      <th>...</th>\n      <th>DrainageSystems</th>\n      <th>CoastalVulnerability</th>\n      <th>Landslides</th>\n      <th>Watersheds</th>\n      <th>DeterioratingInfrastructure</th>\n      <th>PopulationScore</th>\n      <th>WetlandLoss</th>\n      <th>InadequatePlanning</th>\n      <th>PoliticalFactors</th>\n      <th>FloodProbability</th>\n    </tr>\n  </thead>\n  <tbody>\n    <tr>\n      <th>0</th>\n      <td>3</td>\n      <td>8</td>\n      <td>6</td>\n      <td>6</td>\n      <td>4</td>\n      <td>4</td>\n      <td>6</td>\n      <td>2</td>\n      <td>3</td>\n      <td>2</td>\n      <td>...</td>\n      <td>10</td>\n      <td>7</td>\n      <td>4</td>\n      <td>2</td>\n      <td>3</td>\n      <td>4</td>\n      <td>3</td>\n      <td>2</td>\n      <td>6</td>\n      <td>0.450</td>\n    </tr>\n    <tr>\n      <th>1</th>\n      <td>8</td>\n      <td>4</td>\n      <td>5</td>\n      <td>7</td>\n      <td>7</td>\n      <td>9</td>\n      <td>1</td>\n      <td>5</td>\n      <td>5</td>\n      <td>4</td>\n      <td>...</td>\n      <td>9</td>\n      <td>2</td>\n      <td>6</td>\n      <td>2</td>\n      <td>1</td>\n      <td>1</td>\n      <td>9</td>\n      <td>1</td>\n      <td>3</td>\n      <td>0.475</td>\n    </tr>\n    <tr>\n      <th>2</th>\n      <td>3</td>\n      <td>10</td>\n      <td>4</td>\n      <td>1</td>\n      <td>7</td>\n      <td>5</td>\n      <td>4</td>\n      <td>7</td>\n      <td>4</td>\n      <td>9</td>\n      <td>...</td>\n      <td>7</td>\n      <td>4</td>\n      <td>4</td>\n      <td>8</td>\n      <td>6</td>\n      <td>1</td>\n      <td>8</td>\n      <td>3</td>\n      <td>6</td>\n      <td>0.515</td>\n    </tr>\n    <tr>\n      <th>3</th>\n      <td>4</td>\n      <td>4</td>\n      <td>2</td>\n      <td>7</td>\n      <td>3</td>\n      <td>4</td>\n      <td>1</td>\n      <td>4</td>\n      <td>6</td>\n      <td>4</td>\n      <td>...</td>\n      <td>4</td>\n      <td>2</td>\n      <td>6</td>\n      <td>6</td>\n      <td>8</td>\n      <td>8</td>\n      <td>6</td>\n      <td>6</td>\n      <td>10</td>\n      <td>0.520</td>\n    </tr>\n    <tr>\n      <th>4</th>\n      <td>3</td>\n      <td>7</td>\n      <td>5</td>\n      <td>2</td>\n      <td>5</td>\n      <td>8</td>\n      <td>5</td>\n      <td>2</td>\n      <td>7</td>\n      <td>5</td>\n      <td>...</td>\n      <td>7</td>\n      <td>6</td>\n      <td>5</td>\n      <td>3</td>\n      <td>3</td>\n      <td>4</td>\n      <td>4</td>\n      <td>3</td>\n      <td>4</td>\n      <td>0.475</td>\n    </tr>\n  </tbody>\n</table>\n<p>5 rows × 21 columns</p>\n</div>"
     },
     "execution_count": 3,
     "metadata": {},
     "output_type": "execute_result"
    }
   ],
   "source": [
    "df.head()"
   ],
   "metadata": {
    "collapsed": false,
    "ExecuteTime": {
     "end_time": "2024-06-01T22:22:41.424053Z",
     "start_time": "2024-06-01T22:22:41.384380Z"
    }
   }
  },
  {
   "cell_type": "code",
   "execution_count": 4,
   "outputs": [
    {
     "name": "stdout",
     "output_type": "stream",
     "text": [
      "Index(['MonsoonIntensity', 'TopographyDrainage', 'RiverManagement',\n",
      "       'Deforestation', 'Urbanization', 'ClimateChange', 'DamsQuality',\n",
      "       'Siltation', 'AgriculturalPractices', 'Encroachments',\n",
      "       'IneffectiveDisasterPreparedness', 'DrainageSystems',\n",
      "       'CoastalVulnerability', 'Landslides', 'Watersheds',\n",
      "       'DeterioratingInfrastructure', 'PopulationScore', 'WetlandLoss',\n",
      "       'InadequatePlanning', 'PoliticalFactors', 'FloodProbability'],\n",
      "      dtype='object')\n"
     ]
    }
   ],
   "source": [
    "print(df.columns)"
   ],
   "metadata": {
    "collapsed": false,
    "ExecuteTime": {
     "end_time": "2024-06-01T22:24:27.480036Z",
     "start_time": "2024-06-01T22:24:27.476522Z"
    }
   }
  }
 ],
 "metadata": {
  "kernelspec": {
   "display_name": "Python 3",
   "language": "python",
   "name": "python3"
  },
  "language_info": {
   "codemirror_mode": {
    "name": "ipython",
    "version": 2
   },
   "file_extension": ".py",
   "mimetype": "text/x-python",
   "name": "python",
   "nbconvert_exporter": "python",
   "pygments_lexer": "ipython2",
   "version": "2.7.6"
  }
 },
 "nbformat": 4,
 "nbformat_minor": 0
}
